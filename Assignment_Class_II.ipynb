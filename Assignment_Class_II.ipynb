{
  "nbformat": 4,
  "nbformat_minor": 0,
  "metadata": {
    "colab": {
      "provenance": [],
      "toc_visible": true
    },
    "kernelspec": {
      "name": "python3",
      "display_name": "Python 3"
    },
    "language_info": {
      "name": "python"
    }
  },
  "cells": [
    {
      "cell_type": "markdown",
      "source": [
        "# **Assignment for Class-2**"
      ],
      "metadata": {
        "id": "v6Wgkk3jFu4b"
      }
    },
    {
      "cell_type": "markdown",
      "source": [
        "**Variable**  \n",
        "2.1. Try it yourself: Create variables for your name, age, and favorite color, then print them with descriptive labels."
      ],
      "metadata": {
        "id": "2iNj1IwjGLwc"
      }
    },
    {
      "cell_type": "code",
      "source": [
        "name = 'ARIF'\n",
        "age = '28'\n",
        "favorite_color = 'blue'\n",
        "\n",
        "# Printing variables\n",
        "print(\"name:\", name)\n",
        "print(\"age:\", age)\n",
        "print(\"favorite_color:\", favorite_color)"
      ],
      "metadata": {
        "colab": {
          "base_uri": "https://localhost:8080/"
        },
        "id": "CaR4RWa3UAPn",
        "outputId": "412f9320-93c2-45f2-a9a3-9ceb96784448"
      },
      "execution_count": null,
      "outputs": [
        {
          "output_type": "stream",
          "name": "stdout",
          "text": [
            "name: ARIF\n",
            "age: 28\n",
            "favorite_color: blue\n"
          ]
        }
      ]
    },
    {
      "cell_type": "markdown",
      "source": [
        "**Python Data types**\n",
        "\n",
        "2.2. Try it yourself: Create one variable of each type and use the type() function to verify its type\n"
      ],
      "metadata": {
        "id": "xZyl9xwOG-d5"
      }
    },
    {
      "cell_type": "code",
      "source": [
        "type1 = \"ARIF_01\"\n",
        "type2 = 'Dhaka_Bangladesh'\n",
        "type3 = 25\n",
        "type4 = 99.99\n",
        "is_valid = True\n",
        "has_paid = False\n",
        "result = None\n",
        "type5 = 10j\n",
        "type6 = ['mango', 'banana', 'apple']\n",
        "type7 = ('mango', 'banana', 'apple')\n",
        "type8 = range(9)\n",
        "type9 = dict(name= 'ARIF', age=37)\n",
        "type10 = set((\"laptop\", \"computer\", \"mouse\"))\n",
        "type11 = frozenset((\"TV\", \"frizz\", \"oven\"))\n",
        "type12 = bytes(10)\n",
        "type13 = bytearray(10)\n",
        "type14 = memoryview(bytes(6))\n",
        "\n",
        "#print the type\n",
        "#print(type1)\n",
        "print(type(type1))\n",
        "#print(type2)\n",
        "print(type(type2))\n",
        "#print(type3)\n",
        "print(type(type3))\n",
        "#print(type4)\n",
        "print(type(type4))\n",
        "print(type(is_valid))\n",
        "print(type(has_paid))\n",
        "print(type(result))\n",
        "#print(type5)\n",
        "print(type(type5))\n",
        "#print(type6)\n",
        "print(type(type6))\n",
        "#print(type7)\n",
        "print(type(type7))\n",
        "#print(type8)\n",
        "print(type(type8))\n",
        "#print(type9)\n",
        "print(type(type9))\n",
        "#print(type10)\n",
        "print(type(type10))\n",
        "#print(type11)\n",
        "print(type(type11))\n",
        "#print(type12)\n",
        "print(type(type12))\n",
        "#print(type13)\n",
        "print(type(type13))\n",
        "#print(type14)\n",
        "print(type(type14))"
      ],
      "metadata": {
        "colab": {
          "base_uri": "https://localhost:8080/"
        },
        "id": "IvM-r2unHY5S",
        "outputId": "1a04a6e0-d75f-4b7f-d7d2-3e0d7f3eb5d2"
      },
      "execution_count": null,
      "outputs": [
        {
          "output_type": "stream",
          "name": "stdout",
          "text": [
            "<class 'str'>\n",
            "<class 'str'>\n",
            "<class 'int'>\n",
            "<class 'float'>\n",
            "<class 'bool'>\n",
            "<class 'bool'>\n",
            "<class 'NoneType'>\n",
            "<class 'complex'>\n",
            "<class 'list'>\n",
            "<class 'tuple'>\n",
            "<class 'range'>\n",
            "<class 'dict'>\n",
            "<class 'set'>\n",
            "<class 'frozenset'>\n",
            "<class 'bytes'>\n",
            "<class 'bytearray'>\n",
            "<class 'memoryview'>\n"
          ]
        }
      ]
    },
    {
      "cell_type": "markdown",
      "source": [
        "**Arithmetic Operations**\n",
        "\n",
        "2.3. Try it yourself: Calculate the area and perimeter of a rectangle with length 7 and width 5"
      ],
      "metadata": {
        "id": "8pYLDOvdH6Vk"
      }
    },
    {
      "cell_type": "code",
      "source": [
        "length = 7\n",
        "width = 5\n",
        "\n",
        "area = length * width\n",
        "perimeter = 2 * (length + width)\n",
        "\n",
        "print(f\"The area of the rectangle is: {area}\")\n",
        "print(f\"The perimeter of the rectangle is: {perimeter}\")"
      ],
      "metadata": {
        "colab": {
          "base_uri": "https://localhost:8080/"
        },
        "id": "OknjdMiMIxWg",
        "outputId": "1f52dcc4-8517-4c11-8467-eedece780c50"
      },
      "execution_count": null,
      "outputs": [
        {
          "output_type": "stream",
          "name": "stdout",
          "text": [
            "The area of the rectangle is: 35\n",
            "The perimeter of the rectangle is: 24\n"
          ]
        }
      ]
    },
    {
      "cell_type": "markdown",
      "source": [
        "**Data Collections: Lists**\n",
        "\n",
        "2.4. Try it yourself: Create a list of 5 Bangladeshi foods, then access the first and\n",
        "last elements."
      ],
      "metadata": {
        "id": "aRlx5ujft0lC"
      }
    },
    {
      "cell_type": "code",
      "source": [
        "# Creating a list\n",
        "fruits = [\"mango\", \"pineapple\", \"jackfruit\", \"litchi\", \"guavas\" ]\n",
        "# Accessing elements (indexing starts at 0\")\n",
        "print(fruits[1])       # pineapple\n",
        "print(fruits[2])       # jackfruit\n",
        "# Negative indexing (counts from the end)\n",
        "print(fruits[-5:-1])   # ['mango', 'pineapple', 'jackfruit', 'litchi']\n",
        "# Slicing lists\n",
        "print(fruits[0:5])     # ['mango', 'pineapple', 'jackfruit', 'litchi', 'guavas']\n"
      ],
      "metadata": {
        "colab": {
          "base_uri": "https://localhost:8080/"
        },
        "id": "scUfbWiIJvz_",
        "outputId": "1c323bae-60f0-4db6-fdd8-a970b536412b"
      },
      "execution_count": null,
      "outputs": [
        {
          "output_type": "stream",
          "name": "stdout",
          "text": [
            "pineapple\n",
            "jackfruit\n",
            "['mango', 'pineapple', 'jackfruit', 'litchi']\n",
            "['mango', 'pineapple', 'jackfruit', 'litchi', 'guavas']\n"
          ]
        }
      ]
    },
    {
      "cell_type": "markdown",
      "source": [
        "**List Methods**\n",
        "\n",
        "2.5 Try it yourself: Create a list of 5 numbers, add a new number, remove one, and then sort the list."
      ],
      "metadata": {
        "id": "qsE_YUdqQTCH"
      }
    },
    {
      "cell_type": "code",
      "source": [
        "num_list = [2, 4, 6, 8, 10]\n",
        "#adding new number\n",
        "num_list.insert(0, 1)\n",
        "num_list.insert(2, 3)\n",
        "num_list.insert(4, 5)\n",
        "num_list.insert(6, 7)\n",
        "num_list.insert(8, 9)\n",
        "print(num_list)\n",
        "#removing number from list:\n",
        "num_list.remove(1)\n",
        "num_list.remove(3)\n",
        "num_list.remove(5)\n",
        "num_list.remove(7)\n",
        "num_list.remove(9)\n",
        "print(num_list)\n",
        "#Normal shorting list\n",
        "sorted = num_list.sort()\n",
        "print(num_list)\n",
        "#reverse sorting list\n",
        "num_list.reverse()\n",
        "print(num_list)"
      ],
      "metadata": {
        "colab": {
          "base_uri": "https://localhost:8080/"
        },
        "id": "ownKc9n5cGsb",
        "outputId": "272db341-8f17-42d3-f5a8-c8d802cebb5f"
      },
      "execution_count": null,
      "outputs": [
        {
          "output_type": "stream",
          "name": "stdout",
          "text": [
            "[1, 2, 3, 4, 5, 6, 7, 8, 9, 10]\n",
            "[2, 4, 6, 8, 10]\n",
            "[2, 4, 6, 8, 10]\n",
            "[10, 8, 6, 4, 2]\n"
          ]
        }
      ]
    },
    {
      "cell_type": "markdown",
      "source": [
        "**Data Collections: Dictionaries**\n",
        "\n",
        "2.6 Try it yourself: Create a dictionary about yourself with at least 4 key-value pairs"
      ],
      "metadata": {
        "id": "eFKtmETdtjp2"
      }
    },
    {
      "cell_type": "code",
      "source": [
        "# Creating for own dictionary\n",
        "student = {\n",
        "\"name\": \"ARIF\",\n",
        "\"age\": 36,\n",
        "\"father's name\": \"Nazim Uddin\",\n",
        "\"my_son\": \"Izhaan Arham\",\n",
        "\"university\": \"UITS\",\n",
        "\"passing_year\": 2012,\n",
        "\"courses\": [\"Python\", \"Data Science\", \"Web Development\"]}\n",
        "\n",
        "# Accessing values using keys\n",
        "print(student[\"name\"])           # ARIF\n",
        "print(student[\"age\"])            # 36\n",
        "print(student[\"father's name\"])  # Nazim Uddin\n",
        "print(student[\"courses\"] [2])    # Python\n",
        "print(student[\"my_son\"])\n",
        "print(student[\"passing_year\"])\n",
        "print(student[\"courses\"])\n",
        "\n",
        "# Adding or modifying items\n",
        "student[\"cell_number\"] = \"23214304\"\n",
        "student[\"age\"] = 22\n",
        "# Checking if a key exists\n",
        "if \"telephone\" in student:\n",
        "  print(\"telephone\")\n",
        "else:\n",
        "  print(\"data not available\")   # No email found"
      ],
      "metadata": {
        "colab": {
          "base_uri": "https://localhost:8080/"
        },
        "id": "fgM1RVLktwAS",
        "outputId": "1e9ef2e3-0e64-4209-8912-5a595d1ffeb2"
      },
      "execution_count": 10,
      "outputs": [
        {
          "output_type": "stream",
          "name": "stdout",
          "text": [
            "ARIF\n",
            "36\n",
            "Nazim Uddin\n",
            "Web Development\n",
            "Izhaan Arham\n",
            "2012\n",
            "['Python', 'Data Science', 'Web Development']\n",
            "data not available\n"
          ]
        }
      ]
    },
    {
      "cell_type": "markdown",
      "source": [
        "**Data Collections: Tuples**\n",
        "\n",
        "2.7 Try it yourself: Create a tuple with the latitude and longitude of a famous place in Bangladesh."
      ],
      "metadata": {
        "id": "MPPYECYtfxXP"
      }
    },
    {
      "cell_type": "code",
      "source": [
        "# latitude and longitude in the Bangladesh\n",
        "\n",
        "bangladesh_north_coordinte = (20.34, 26.38)\n",
        "bangladesh_east_longitude = (88.01, 92.41)\n",
        "\n",
        "# Access the individual components like this:\n",
        "latitude = bangladesh_north_coordinte[0:2]\n",
        "longitude = bangladesh_east_longitude[0:2]\n",
        "\n",
        "print(f\"North Latitude of bangladesh: {latitude}\")\n",
        "print(f\"East Longitude of bangladesh: {longitude}\")"
      ],
      "metadata": {
        "colab": {
          "base_uri": "https://localhost:8080/"
        },
        "id": "Cll0QYsAn_FN",
        "outputId": "5a3f7948-a0c6-490c-afc1-90186c04830a"
      },
      "execution_count": 51,
      "outputs": [
        {
          "output_type": "stream",
          "name": "stdout",
          "text": [
            "North Latitude of bangladesh: (20.34, 26.38)\n",
            "East Longitude of bangladesh: (88.01, 92.41)\n"
          ]
        }
      ]
    }
  ]
}