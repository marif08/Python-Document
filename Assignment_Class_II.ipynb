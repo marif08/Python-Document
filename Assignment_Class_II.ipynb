{
  "nbformat": 4,
  "nbformat_minor": 0,
  "metadata": {
    "colab": {
      "provenance": [],
      "toc_visible": true
    },
    "kernelspec": {
      "name": "python3",
      "display_name": "Python 3"
    },
    "language_info": {
      "name": "python"
    }
  },
  "cells": [
    {
      "cell_type": "markdown",
      "source": [
        "# **Assignment for Class-2**"
      ],
      "metadata": {
        "id": "v6Wgkk3jFu4b"
      }
    },
    {
      "cell_type": "markdown",
      "source": [
        "**Variable**  \n",
        "2.1. Try it yourself: Create variables for your name, age, and favorite color, then print them with descriptive labels."
      ],
      "metadata": {
        "id": "2iNj1IwjGLwc"
      }
    },
    {
      "cell_type": "code",
      "source": [
        "name = 'ARIF'\n",
        "age = '28'\n",
        "favorite_color = 'blue'\n",
        "\n",
        "# Printing variables\n",
        "print(\"name:\", name)\n",
        "print(\"age:\", age)\n",
        "print(\"favorite_color:\", favorite_color)"
      ],
      "metadata": {
        "colab": {
          "base_uri": "https://localhost:8080/"
        },
        "id": "CaR4RWa3UAPn",
        "outputId": "412f9320-93c2-45f2-a9a3-9ceb96784448"
      },
      "execution_count": 3,
      "outputs": [
        {
          "output_type": "stream",
          "name": "stdout",
          "text": [
            "name: ARIF\n",
            "age: 28\n",
            "favorite_color: blue\n"
          ]
        }
      ]
    },
    {
      "cell_type": "markdown",
      "source": [
        "**Python Data types**\n",
        "\n",
        "2.2. Try it yourself: Create one variable of each type and use the type() function to verify its type\n"
      ],
      "metadata": {
        "id": "xZyl9xwOG-d5"
      }
    },
    {
      "cell_type": "code",
      "source": [
        "type1 = \"ARIF_01\"\n",
        "type2 = 'Dhaka_Bangladesh'\n",
        "type3 = 25\n",
        "type4 = 99.99\n",
        "is_valid = True\n",
        "has_paid = False\n",
        "result = None\n",
        "type5 = 10j\n",
        "type6 = ['mango', 'banana', 'apple']\n",
        "type7 = ('mango', 'banana', 'apple')\n",
        "type8 = range(9)\n",
        "type9 = dict(name= 'ARIF', age=37)\n",
        "type10 = set((\"laptop\", \"computer\", \"mouse\"))\n",
        "type11 = frozenset((\"TV\", \"frizz\", \"oven\"))\n",
        "type12 = bytes(10)\n",
        "type13 = bytearray(10)\n",
        "type14 = memoryview(bytes(6))\n",
        "\n",
        "#print the type\n",
        "#print(type1)\n",
        "print(type(type1))\n",
        "#print(type2)\n",
        "print(type(type2))\n",
        "#print(type3)\n",
        "print(type(type3))\n",
        "#print(type4)\n",
        "print(type(type4))\n",
        "print(type(is_valid))\n",
        "print(type(has_paid))\n",
        "print(type(result))\n",
        "#print(type5)\n",
        "print(type(type5))\n",
        "#print(type6)\n",
        "print(type(type6))\n",
        "#print(type7)\n",
        "print(type(type7))\n",
        "#print(type8)\n",
        "print(type(type8))\n",
        "#print(type9)\n",
        "print(type(type9))\n",
        "#print(type10)\n",
        "print(type(type10))\n",
        "#print(type11)\n",
        "print(type(type11))\n",
        "#print(type12)\n",
        "print(type(type12))\n",
        "#print(type13)\n",
        "print(type(type13))\n",
        "#print(type14)\n",
        "print(type(type14))"
      ],
      "metadata": {
        "colab": {
          "base_uri": "https://localhost:8080/"
        },
        "id": "IvM-r2unHY5S",
        "outputId": "1a04a6e0-d75f-4b7f-d7d2-3e0d7f3eb5d2"
      },
      "execution_count": 4,
      "outputs": [
        {
          "output_type": "stream",
          "name": "stdout",
          "text": [
            "<class 'str'>\n",
            "<class 'str'>\n",
            "<class 'int'>\n",
            "<class 'float'>\n",
            "<class 'bool'>\n",
            "<class 'bool'>\n",
            "<class 'NoneType'>\n",
            "<class 'complex'>\n",
            "<class 'list'>\n",
            "<class 'tuple'>\n",
            "<class 'range'>\n",
            "<class 'dict'>\n",
            "<class 'set'>\n",
            "<class 'frozenset'>\n",
            "<class 'bytes'>\n",
            "<class 'bytearray'>\n",
            "<class 'memoryview'>\n"
          ]
        }
      ]
    },
    {
      "cell_type": "markdown",
      "source": [
        "**Arithmetic Operations**\n",
        "\n",
        "2.3. Try it yourself: Calculate the area and perimeter of a rectangle with length 7 and width 5"
      ],
      "metadata": {
        "id": "8pYLDOvdH6Vk"
      }
    },
    {
      "cell_type": "code",
      "source": [
        "length = 7\n",
        "width = 5\n",
        "\n",
        "area = length * width\n",
        "perimeter = 2 * (length + width)\n",
        "\n",
        "print(f\"The area of the rectangle is: {area}\")\n",
        "print(f\"The perimeter of the rectangle is: {perimeter}\")"
      ],
      "metadata": {
        "colab": {
          "base_uri": "https://localhost:8080/"
        },
        "id": "OknjdMiMIxWg",
        "outputId": "1f52dcc4-8517-4c11-8467-eedece780c50"
      },
      "execution_count": 5,
      "outputs": [
        {
          "output_type": "stream",
          "name": "stdout",
          "text": [
            "The area of the rectangle is: 35\n",
            "The perimeter of the rectangle is: 24\n"
          ]
        }
      ]
    }
  ]
}