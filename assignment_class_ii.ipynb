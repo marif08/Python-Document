{
  "nbformat": 4,
  "nbformat_minor": 0,
  "metadata": {
    "colab": {
      "provenance": [],
      "toc_visible": true
    },
    "kernelspec": {
      "name": "python3",
      "display_name": "Python 3"
    },
    "language_info": {
      "name": "python"
    }
  },
  "cells": [
    {
      "cell_type": "markdown",
      "source": [
        "# **Assignment for Class-2**"
      ],
      "metadata": {
        "id": "v6Wgkk3jFu4b"
      }
    },
    {
      "cell_type": "markdown",
      "source": [
        "**Variable**  \n",
        "2.1.  Create variables for your name, age, and favorite color, then print them with descriptive labels."
      ],
      "metadata": {
        "id": "2iNj1IwjGLwc"
      }
    },
    {
      "cell_type": "code",
      "source": [
        "name = 'ARIF'\n",
        "age = '28'\n",
        "favorite_color = 'blue'\n",
        "\n",
        "# Printing variables\n",
        "print(\"name:\", name)\n",
        "print(\"age:\", age)\n",
        "print(\"favorite_color:\", favorite_color)"
      ],
      "metadata": {
        "colab": {
          "base_uri": "https://localhost:8080/"
        },
        "id": "CaR4RWa3UAPn",
        "outputId": "412f9320-93c2-45f2-a9a3-9ceb96784448"
      },
      "execution_count": null,
      "outputs": [
        {
          "output_type": "stream",
          "name": "stdout",
          "text": [
            "name: ARIF\n",
            "age: 28\n",
            "favorite_color: blue\n"
          ]
        }
      ]
    },
    {
      "cell_type": "markdown",
      "source": [
        "**Python Data types**\n",
        "\n",
        "2.2. Create one variable of each type and use the type() function to verify its type\n"
      ],
      "metadata": {
        "id": "xZyl9xwOG-d5"
      }
    },
    {
      "cell_type": "code",
      "source": [
        "type1 = \"ARIF_01\"\n",
        "type2 = 'Dhaka_Bangladesh'\n",
        "type3 = 25\n",
        "type4 = 99.99\n",
        "is_valid = True\n",
        "has_paid = False\n",
        "result = None\n",
        "type5 = 10j\n",
        "type6 = ['mango', 'banana', 'apple']\n",
        "type7 = ('mango', 'banana', 'apple')\n",
        "type8 = range(9)\n",
        "type9 = dict(name= 'ARIF', age=37)\n",
        "type10 = set((\"laptop\", \"computer\", \"mouse\"))\n",
        "type11 = frozenset((\"TV\", \"frizz\", \"oven\"))\n",
        "type12 = bytes(10)\n",
        "type13 = bytearray(10)\n",
        "type14 = memoryview(bytes(6))\n",
        "\n",
        "#print the type\n",
        "#print(type1)\n",
        "print(type(type1))\n",
        "#print(type2)\n",
        "print(type(type2))\n",
        "#print(type3)\n",
        "print(type(type3))\n",
        "#print(type4)\n",
        "print(type(type4))\n",
        "print(type(is_valid))\n",
        "print(type(has_paid))\n",
        "print(type(result))\n",
        "#print(type5)\n",
        "print(type(type5))\n",
        "#print(type6)\n",
        "print(type(type6))\n",
        "#print(type7)\n",
        "print(type(type7))\n",
        "#print(type8)\n",
        "print(type(type8))\n",
        "#print(type9)\n",
        "print(type(type9))\n",
        "#print(type10)\n",
        "print(type(type10))\n",
        "#print(type11)\n",
        "print(type(type11))\n",
        "#print(type12)\n",
        "print(type(type12))\n",
        "#print(type13)\n",
        "print(type(type13))\n",
        "#print(type14)\n",
        "print(type(type14))"
      ],
      "metadata": {
        "colab": {
          "base_uri": "https://localhost:8080/"
        },
        "id": "IvM-r2unHY5S",
        "outputId": "1a04a6e0-d75f-4b7f-d7d2-3e0d7f3eb5d2"
      },
      "execution_count": null,
      "outputs": [
        {
          "output_type": "stream",
          "name": "stdout",
          "text": [
            "<class 'str'>\n",
            "<class 'str'>\n",
            "<class 'int'>\n",
            "<class 'float'>\n",
            "<class 'bool'>\n",
            "<class 'bool'>\n",
            "<class 'NoneType'>\n",
            "<class 'complex'>\n",
            "<class 'list'>\n",
            "<class 'tuple'>\n",
            "<class 'range'>\n",
            "<class 'dict'>\n",
            "<class 'set'>\n",
            "<class 'frozenset'>\n",
            "<class 'bytes'>\n",
            "<class 'bytearray'>\n",
            "<class 'memoryview'>\n"
          ]
        }
      ]
    },
    {
      "cell_type": "markdown",
      "source": [
        "**Arithmetic Operations**\n",
        "\n",
        "2.3.  Calculate the area and perimeter of a rectangle with length 7 and width 5"
      ],
      "metadata": {
        "id": "8pYLDOvdH6Vk"
      }
    },
    {
      "cell_type": "code",
      "source": [
        "length = 7\n",
        "width = 5\n",
        "\n",
        "area = length * width\n",
        "perimeter = 2 * (length + width)\n",
        "\n",
        "print(f\"The area of the rectangle is: {area}\")\n",
        "print(f\"The perimeter of the rectangle is: {perimeter}\")"
      ],
      "metadata": {
        "colab": {
          "base_uri": "https://localhost:8080/"
        },
        "id": "OknjdMiMIxWg",
        "outputId": "1f52dcc4-8517-4c11-8467-eedece780c50"
      },
      "execution_count": null,
      "outputs": [
        {
          "output_type": "stream",
          "name": "stdout",
          "text": [
            "The area of the rectangle is: 35\n",
            "The perimeter of the rectangle is: 24\n"
          ]
        }
      ]
    },
    {
      "cell_type": "markdown",
      "source": [
        "**Data Collections: Lists**\n",
        "\n",
        "2.4 . Create a list of 5 Bangladeshi foods, then access the first and\n",
        "last elements."
      ],
      "metadata": {
        "id": "aRlx5ujft0lC"
      }
    },
    {
      "cell_type": "code",
      "source": [
        "# Creating a list\n",
        "fruits = [\"mango\", \"pineapple\", \"jackfruit\", \"litchi\", \"guavas\" ]\n",
        "# Accessing elements (indexing starts at 0\")\n",
        "print(fruits[1])       # pineapple\n",
        "print(fruits[2])       # jackfruit\n",
        "# Negative indexing (counts from the end)\n",
        "print(fruits[-5:-1])   # ['mango', 'pineapple', 'jackfruit', 'litchi']\n",
        "# Slicing lists\n",
        "print(fruits[0:5])     # ['mango', 'pineapple', 'jackfruit', 'litchi', 'guavas']\n"
      ],
      "metadata": {
        "colab": {
          "base_uri": "https://localhost:8080/"
        },
        "id": "scUfbWiIJvz_",
        "outputId": "1c323bae-60f0-4db6-fdd8-a970b536412b"
      },
      "execution_count": null,
      "outputs": [
        {
          "output_type": "stream",
          "name": "stdout",
          "text": [
            "pineapple\n",
            "jackfruit\n",
            "['mango', 'pineapple', 'jackfruit', 'litchi']\n",
            "['mango', 'pineapple', 'jackfruit', 'litchi', 'guavas']\n"
          ]
        }
      ]
    },
    {
      "cell_type": "markdown",
      "source": [
        "**List Methods**\n",
        "\n",
        "2.5 . Create a list of 5 numbers, add a new number, remove one, and then sort the list."
      ],
      "metadata": {
        "id": "qsE_YUdqQTCH"
      }
    },
    {
      "cell_type": "code",
      "source": [
        "num_list = [2, 4, 6, 8, 10]\n",
        "#adding new number\n",
        "num_list.insert(0, 1)\n",
        "num_list.insert(2, 3)\n",
        "num_list.insert(4, 5)\n",
        "num_list.insert(6, 7)\n",
        "num_list.insert(8, 9)\n",
        "print(num_list)\n",
        "#removing number from list:\n",
        "num_list.remove(1)\n",
        "num_list.remove(3)\n",
        "num_list.remove(5)\n",
        "num_list.remove(7)\n",
        "num_list.remove(9)\n",
        "print(num_list)\n",
        "#Normal shorting list\n",
        "sorted = num_list.sort()\n",
        "print(num_list)\n",
        "#reverse sorting list\n",
        "num_list.reverse()\n",
        "print(num_list)"
      ],
      "metadata": {
        "colab": {
          "base_uri": "https://localhost:8080/"
        },
        "id": "ownKc9n5cGsb",
        "outputId": "272db341-8f17-42d3-f5a8-c8d802cebb5f"
      },
      "execution_count": null,
      "outputs": [
        {
          "output_type": "stream",
          "name": "stdout",
          "text": [
            "[1, 2, 3, 4, 5, 6, 7, 8, 9, 10]\n",
            "[2, 4, 6, 8, 10]\n",
            "[2, 4, 6, 8, 10]\n",
            "[10, 8, 6, 4, 2]\n"
          ]
        }
      ]
    },
    {
      "cell_type": "markdown",
      "source": [
        "**Data Collections: Dictionaries**\n",
        "\n",
        "2.6 . Create a dictionary about yourself with at least 4 key-value pairs"
      ],
      "metadata": {
        "id": "eFKtmETdtjp2"
      }
    },
    {
      "cell_type": "code",
      "source": [
        "# Creating for own dictionary\n",
        "student = {\n",
        "\"name\": \"ARIF\",\n",
        "\"age\": 36,\n",
        "\"father's name\": \"Nazim Uddin\",\n",
        "\"my_son\": \"Izhaan Arham\",\n",
        "\"university\": \"UITS\",\n",
        "\"passing_year\": 2012,\n",
        "\"courses\": [\"Python\", \"Data Science\", \"Web Development\"]}\n",
        "\n",
        "# Accessing values using keys\n",
        "print(student[\"name\"])           # ARIF\n",
        "print(student[\"age\"])            # 36\n",
        "print(student[\"father's name\"])  # Nazim Uddin\n",
        "print(student[\"courses\"] [2])    # Python\n",
        "print(student[\"my_son\"])\n",
        "print(student[\"passing_year\"])\n",
        "print(student[\"courses\"])\n",
        "\n",
        "# Adding or modifying items\n",
        "student[\"cell_number\"] = \"23214304\"\n",
        "student[\"age\"] = 22\n",
        "# Checking if a key exists\n",
        "if \"telephone\" in student:\n",
        "  print(\"telephone\")\n",
        "else:\n",
        "  print(\"data not available\")   # No email found"
      ],
      "metadata": {
        "colab": {
          "base_uri": "https://localhost:8080/"
        },
        "id": "fgM1RVLktwAS",
        "outputId": "1e9ef2e3-0e64-4209-8912-5a595d1ffeb2"
      },
      "execution_count": null,
      "outputs": [
        {
          "output_type": "stream",
          "name": "stdout",
          "text": [
            "ARIF\n",
            "36\n",
            "Nazim Uddin\n",
            "Web Development\n",
            "Izhaan Arham\n",
            "2012\n",
            "['Python', 'Data Science', 'Web Development']\n",
            "data not available\n"
          ]
        }
      ]
    },
    {
      "cell_type": "markdown",
      "source": [
        "**Data Collections: Tuples**\n",
        "\n",
        "2.7 . Create a tuple with the latitude and longitude of a famous place in Bangladesh."
      ],
      "metadata": {
        "id": "MPPYECYtfxXP"
      }
    },
    {
      "cell_type": "code",
      "source": [
        "# latitude and longitude in the Bangladesh\n",
        "\n",
        "bangladesh_north_coordinte = (20.34, 26.38)\n",
        "bangladesh_east_longitude = (88.01, 92.41)\n",
        "\n",
        "# Access the individual components like this:\n",
        "latitude = bangladesh_north_coordinte[0:2]\n",
        "longitude = bangladesh_east_longitude[0:2]\n",
        "\n",
        "print(f\"North Latitude of bangladesh: {latitude}\")\n",
        "print(f\"East Longitude of bangladesh: {longitude}\")"
      ],
      "metadata": {
        "colab": {
          "base_uri": "https://localhost:8080/"
        },
        "id": "Cll0QYsAn_FN",
        "outputId": "5a3f7948-a0c6-490c-afc1-90186c04830a"
      },
      "execution_count": null,
      "outputs": [
        {
          "output_type": "stream",
          "name": "stdout",
          "text": [
            "North Latitude of bangladesh: (20.34, 26.38)\n",
            "East Longitude of bangladesh: (88.01, 92.41)\n"
          ]
        }
      ]
    },
    {
      "cell_type": "markdown",
      "source": [
        "**Data Collections: Sets**\n",
        "\n",
        "2.8 \\.Create two sets of colors and find their union and intersection."
      ],
      "metadata": {
        "id": "r1zoZJ5cDH6n"
      }
    },
    {
      "cell_type": "code",
      "source": [
        "# Define two lists of colors\n",
        "colors1 = [\"Red\", \"Green\"]\n",
        "colors2 = [\"blue\", \"White\"]\n",
        "\n",
        "# Convert the lists to sets\n",
        "set1 = set(colors1)\n",
        "set2 = set(colors2)\n",
        "\n",
        "# Calculate the union of the two sets\n",
        "union_colors = set1 | set2\n",
        "# Alternatively: union_colors = set1.union(set2)\n",
        "\n",
        "# Calculate the intersection of the two sets\n",
        "intersection_colors = set1 & set2\n",
        "\n",
        "# Print the original lists\n",
        "print(\"Original list 1:\", colors1 [1])\n",
        "print(\"Original list 2:\", colors2 [0])\n",
        "\n",
        "# Print the results\n",
        "print(\"\\nUnion of colors:\", union_colors)\n",
        "print(\"Intersection of colors:\", intersection_colors)\n"
      ],
      "metadata": {
        "colab": {
          "base_uri": "https://localhost:8080/"
        },
        "id": "SnGqdGIQDV-z",
        "outputId": "031467dc-2355-42c2-cdad-a459f35cb5db"
      },
      "execution_count": 12,
      "outputs": [
        {
          "output_type": "stream",
          "name": "stdout",
          "text": [
            "Original list 1: Green\n",
            "Original list 2: blue\n",
            "\n",
            "Union of colors: {'White', 'Green', 'Red', 'blue'}\n",
            "Intersection of colors: set()\n"
          ]
        }
      ]
    },
    {
      "cell_type": "markdown",
      "source": [
        "**Control Structures: If-Else Statements**\n",
        "\n",
        "Conditional statements let your program make decisions based on conditions\n",
        "\n",
        "Remember to use proper indentation - Python uses indentation to define code blocks.\n",
        "\n",
        "2.9 . Write a program that checks if a number is positive, negative, or zero"
      ],
      "metadata": {
        "id": "JKwrW0f-Oz1z"
      }
    },
    {
      "cell_type": "code",
      "source": [
        "# Get input from the query\n",
        "number = float(input(\"Enter a value: \"))\n",
        "\n",
        "# Check if the number is positive, negative, or zero\n",
        "if number > 0:\n",
        "    print(f\"{number} is a positive value.\")\n",
        "elif number < 0:\n",
        "    print(f\"{number} is a negative value.\")\n",
        "else:\n",
        "    print(f\"{number} is zero.\")"
      ],
      "metadata": {
        "colab": {
          "base_uri": "https://localhost:8080/"
        },
        "id": "5d-xD0jVPEuH",
        "outputId": "f12fde6e-f3a2-4e75-d05a-78a98012e8fc"
      },
      "execution_count": 16,
      "outputs": [
        {
          "output_type": "stream",
          "name": "stdout",
          "text": [
            "Enter a value: 3\n",
            "3.0 is a positive value.\n"
          ]
        }
      ]
    },
    {
      "cell_type": "code",
      "source": [
        "#Get the input form query\n",
        "number = float(input(\"enter value\"))\n",
        "\n",
        "#checks the number is positive, negative, or zero\n",
        "if number> 0:\n",
        "    print(f\"{number} is the positive value\")\n",
        "elif number < 0:\n",
        "    print(f\"{number} is the negative value\")\n",
        "else:\n",
        "    print(f\"{number} is the zero\")\n"
      ],
      "metadata": {
        "colab": {
          "base_uri": "https://localhost:8080/"
        },
        "id": "4RHAWzgmRF-o",
        "outputId": "e3fbaed4-0067-4760-b991-47e718e963c8"
      },
      "execution_count": 20,
      "outputs": [
        {
          "output_type": "stream",
          "name": "stdout",
          "text": [
            "enter value-3\n",
            "-3.0 is the negative value\n"
          ]
        }
      ]
    },
    {
      "cell_type": "markdown",
      "source": [
        "**Nested If Statements and Logical Operators**\n",
        "\n",
        "2.10.  Write a program that checks eligibility for a discount (student AND under 25, OR senior over 60)."
      ],
      "metadata": {
        "id": "bY-cSsMzSr7v"
      }
    },
    {
      "cell_type": "code",
      "source": [
        "# Student are eligibile for discount condition\n",
        "age = 25\n",
        "student = 60\n",
        "if age > 28:\n",
        "  if student > 60:\n",
        "    print(\"student eligibility for discount\")\n",
        "  else:\n",
        "    print(\"student are not eligibile for discount\")\n",
        "else:\n",
        "  if student < 25:\n",
        "    print(\"student eligibility for discount\")\n",
        "  else:\n",
        "    print(\"student are not eligibile for discount\")"
      ],
      "metadata": {
        "colab": {
          "base_uri": "https://localhost:8080/"
        },
        "id": "B6tpdPuJTaQ-",
        "outputId": "c5c86792-9cfe-42b2-d246-2df96973ac98"
      },
      "execution_count": 40,
      "outputs": [
        {
          "output_type": "stream",
          "name": "stdout",
          "text": [
            "student are not eligibile for discount\n"
          ]
        }
      ]
    },
    {
      "cell_type": "markdown",
      "source": [
        "**Control Structures: Loops**\n",
        "\n",
        "2.11  Write a program that prints the first 10 even numbers\n",
        "using a for or while loop."
      ],
      "metadata": {
        "id": "6kjn7ZWeg5Cl"
      }
    },
    {
      "cell_type": "code",
      "source": [
        "# With a break statement\n",
        "\n",
        "# Using range() function\n",
        "for i in range(1):\n",
        "   for num in range(2, 21, 2): # 2 to 20\n",
        "    print(num)\n"
      ],
      "metadata": {
        "colab": {
          "base_uri": "https://localhost:8080/"
        },
        "id": "sro1zCi5g-qs",
        "outputId": "ff77287a-987c-4e1e-9a35-8a7d46956319"
      },
      "execution_count": 48,
      "outputs": [
        {
          "output_type": "stream",
          "name": "stdout",
          "text": [
            "2\n",
            "4\n",
            "6\n",
            "8\n",
            "10\n",
            "12\n",
            "14\n",
            "16\n",
            "18\n",
            "20\n"
          ]
        }
      ]
    },
    {
      "cell_type": "markdown",
      "source": [
        "**Multiplication table (1-10)**"
      ],
      "metadata": {
        "id": "d5scLlKRGBt9"
      }
    },
    {
      "cell_type": "code",
      "source": [
        "#Multiplication table (1-10)\n",
        "for i in range(1, 11):\n",
        "  for j in range(1,3):\n",
        "    product = i * j\n",
        "    print(f\"{i} * {j} = {product}\")\n",
        "  print(\"============\")"
      ],
      "metadata": {
        "colab": {
          "base_uri": "https://localhost:8080/"
        },
        "id": "m1M2VthH4Qhd",
        "outputId": "644a082c-1772-4893-9d34-d293c4e1d354"
      },
      "execution_count": 12,
      "outputs": [
        {
          "output_type": "stream",
          "name": "stdout",
          "text": [
            "1 * 1 = 1\n",
            "1 * 2 = 2\n",
            "============\n",
            "2 * 1 = 2\n",
            "2 * 2 = 4\n",
            "============\n",
            "3 * 1 = 3\n",
            "3 * 2 = 6\n",
            "============\n",
            "4 * 1 = 4\n",
            "4 * 2 = 8\n",
            "============\n",
            "5 * 1 = 5\n",
            "5 * 2 = 10\n",
            "============\n",
            "6 * 1 = 6\n",
            "6 * 2 = 12\n",
            "============\n",
            "7 * 1 = 7\n",
            "7 * 2 = 14\n",
            "============\n",
            "8 * 1 = 8\n",
            "8 * 2 = 16\n",
            "============\n",
            "9 * 1 = 9\n",
            "9 * 2 = 18\n",
            "============\n",
            "10 * 1 = 10\n",
            "10 * 2 = 20\n",
            "============\n"
          ]
        }
      ]
    },
    {
      "cell_type": "markdown",
      "source": [
        "**Loop Control and Nested Loops**\n",
        "\n",
        "2.12 Write a program that prints a simple number pyramid pattern using nested loops."
      ],
      "metadata": {
        "id": "sBrzto5Y8AMx"
      }
    },
    {
      "cell_type": "code",
      "source": [
        "#Pattern printing\n",
        "def pyramid(n):\n",
        "  for i in range(1, n+1):\n",
        "    # Print leading spaces\n",
        "    for j in range(n -i):\n",
        "      print(\" \", end=\"\")\n",
        "      # Print asterisks for the current row\n",
        "    for k in range(1, 2*i):\n",
        "      print(\"*\", end=\"\")\n",
        "    print()\n",
        "pyramid(8)\n"
      ],
      "metadata": {
        "colab": {
          "base_uri": "https://localhost:8080/"
        },
        "id": "wFIvkwwC8Kbm",
        "outputId": "e49142c8-8040-4bb2-f627-39a7b3ef80da"
      },
      "execution_count": 28,
      "outputs": [
        {
          "output_type": "stream",
          "name": "stdout",
          "text": [
            "       *\n",
            "      ***\n",
            "     *****\n",
            "    *******\n",
            "   *********\n",
            "  ***********\n",
            " *************\n",
            "***************\n"
          ]
        }
      ]
    },
    {
      "cell_type": "markdown",
      "source": [
        "**Functions: Basics**\n",
        "\n",
        "2.13:  Create a function that converts temperature from Celsius to Fahrenheit using the formula: F = (C × 9/5) + 32"
      ],
      "metadata": {
        "id": "-BTR1ui4GPH_"
      }
    },
    {
      "cell_type": "code",
      "source": [
        "def celsius_to_fahrenheit(celsius):\n",
        "  \"\"\"\n",
        "  Converts a temperature from Celsius to Fahrenheit.\n",
        "\n",
        "  Args:\n",
        "    celsius: The temperature in degrees Celsius.\n",
        "\n",
        "  Returns:\n",
        "    The temperature in degrees Fahrenheit.\n",
        "  \"\"\"\n",
        "  fahrenheit = (celsius * 9/5) + 32\n",
        "  return fahrenheit\n",
        "\n",
        "# Example usage:\n",
        "temp_celsius = 25\n",
        "temp_fahrenheit = celsius_to_fahrenheit(temp_celsius)\n",
        "print(f\"{temp_celsius}°C is equal to {temp_fahrenheit}°F\")"
      ],
      "metadata": {
        "colab": {
          "base_uri": "https://localhost:8080/"
        },
        "id": "fG1JXE3VHvMe",
        "outputId": "5a4ea1fa-7491-4b09-8085-e69f54395672"
      },
      "execution_count": 49,
      "outputs": [
        {
          "output_type": "stream",
          "name": "stdout",
          "text": [
            "25°C is equal to 77.0°F\n"
          ]
        }
      ]
    },
    {
      "cell_type": "markdown",
      "source": [
        "**Functions: Advanced Features**\n",
        "\n",
        "2.14 Create a function with default parameters that calculates the area of a rectangle."
      ],
      "metadata": {
        "id": "QT7EZ0DYHlQ4"
      }
    },
    {
      "cell_type": "code",
      "source": [
        "def calculate_area(length=0, width=0):\n",
        "  \"\"\"\n",
        "  Calculates the area of a rectangle.\n",
        "\n",
        "  Args:\n",
        "    length: The length of the rectangle. Defaults to 0.\n",
        "    width: The width of the rectangle. Defaults to 0.\n",
        "\n",
        "  Returns:\n",
        "    The area of the rectangle (length * width).\n",
        "  \"\"\"\n",
        "  return length * width\n",
        "\n",
        "# Example Usage:\n",
        "print(calculate_area(5, 4))  # Output: 20\n",
        "print(calculate_area(7))     # Output: 0 (since width defaults to 0)\n",
        "print(calculate_area())      # Output: 0 (both length and width default to 0)"
      ],
      "metadata": {
        "colab": {
          "base_uri": "https://localhost:8080/"
        },
        "id": "Yph7Ov-AIUkU",
        "outputId": "b515ddda-528e-490f-841f-33388bcb7579"
      },
      "execution_count": 53,
      "outputs": [
        {
          "output_type": "stream",
          "name": "stdout",
          "text": [
            "20\n",
            "0\n",
            "0\n"
          ]
        }
      ]
    }
  ]
}